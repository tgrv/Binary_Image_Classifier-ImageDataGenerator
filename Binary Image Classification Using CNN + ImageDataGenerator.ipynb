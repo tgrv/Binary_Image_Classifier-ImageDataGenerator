{
 "cells": [
  {
   "cell_type": "markdown",
   "metadata": {},
   "source": [
    "# Binary Image Classification with CNN using ImageDataGenerator to prevent Overfitting \n",
    "\n",
    "We will build a Cats vs Dogs classifier using a basic Convolutional Neural Network architecture. \n",
    "We will focus on the use of **ImageDataGenerator** to help build a more robust model, even with less training data and while also avoiding overfitting.  \n",
    "\n",
    "The dataset is obtained from a subset of Kaggle dataset titled 'Dogs & Cats Images', which can be found at the following link: \n",
    "https://www.kaggle.com/chetankv/dogs-cats-images"
   ]
  },
  {
   "cell_type": "code",
   "execution_count": 1,
   "metadata": {},
   "outputs": [
    {
     "name": "stdout",
     "output_type": "stream",
     "text": [
      "2.2.0\n"
     ]
    }
   ],
   "source": [
    "import os\n",
    "import matplotlib.pyplot as plt\n",
    "%matplotlib inline\n",
    "import tensorflow as tf\n",
    "from tensorflow.keras import layers\n",
    "from tensorflow.keras import Model  \n",
    "from tensorflow.keras.optimizers import RMSprop\n",
    "from tensorflow.keras.preprocessing.image import ImageDataGenerator\n",
    "print(tf.__version__)"
   ]
  },
  {
   "cell_type": "code",
   "execution_count": 2,
   "metadata": {
    "executionInfo": {
     "elapsed": 3689,
     "status": "ok",
     "timestamp": 1603017079574,
     "user": {
      "displayName": "",
      "photoUrl": "",
      "userId": ""
     },
     "user_tz": -330
    },
    "id": "BMXb913pbvFg",
    "scrolled": true
   },
   "outputs": [
    {
     "name": "stdout",
     "output_type": "stream",
     "text": [
      "Model: \"sequential\"\n",
      "_________________________________________________________________\n",
      "Layer (type)                 Output Shape              Param #   \n",
      "=================================================================\n",
      "conv2d (Conv2D)              (None, 148, 148, 32)      896       \n",
      "_________________________________________________________________\n",
      "max_pooling2d (MaxPooling2D) (None, 74, 74, 32)        0         \n",
      "_________________________________________________________________\n",
      "conv2d_1 (Conv2D)            (None, 72, 72, 64)        18496     \n",
      "_________________________________________________________________\n",
      "max_pooling2d_1 (MaxPooling2 (None, 36, 36, 64)        0         \n",
      "_________________________________________________________________\n",
      "conv2d_2 (Conv2D)            (None, 34, 34, 128)       73856     \n",
      "_________________________________________________________________\n",
      "max_pooling2d_2 (MaxPooling2 (None, 17, 17, 128)       0         \n",
      "_________________________________________________________________\n",
      "conv2d_3 (Conv2D)            (None, 15, 15, 128)       147584    \n",
      "_________________________________________________________________\n",
      "max_pooling2d_3 (MaxPooling2 (None, 7, 7, 128)         0         \n",
      "_________________________________________________________________\n",
      "flatten (Flatten)            (None, 6272)              0         \n",
      "_________________________________________________________________\n",
      "dense (Dense)                (None, 512)               3211776   \n",
      "_________________________________________________________________\n",
      "dense_1 (Dense)              (None, 1)                 513       \n",
      "=================================================================\n",
      "Total params: 3,453,121\n",
      "Trainable params: 3,453,121\n",
      "Non-trainable params: 0\n",
      "_________________________________________________________________\n"
     ]
    }
   ],
   "source": [
    "# Define the model\n",
    "model = tf.keras.models.Sequential([\n",
    "    tf.keras.layers.Conv2D(32, (3,3), activation='relu', input_shape=(150, 150, 3)),\n",
    "    tf.keras.layers.MaxPooling2D(2, 2),\n",
    "    tf.keras.layers.Conv2D(64, (3,3), activation='relu'),\n",
    "    tf.keras.layers.MaxPooling2D(2,2),\n",
    "    tf.keras.layers.Conv2D(128, (3,3), activation='relu'),\n",
    "    tf.keras.layers.MaxPooling2D(2,2),\n",
    "    tf.keras.layers.Conv2D(128, (3,3), activation='relu'),\n",
    "    tf.keras.layers.MaxPooling2D(2,2),\n",
    "    tf.keras.layers.Flatten(),\n",
    "    tf.keras.layers.Dense(512, activation='relu'),\n",
    "    tf.keras.layers.Dense(1, activation='sigmoid')\n",
    "])\n",
    "\n",
    "# Compile model\n",
    "model.compile(loss='binary_crossentropy',\n",
    "              optimizer=RMSprop(lr=1e-4),\n",
    "              metrics=['accuracy'])\n",
    "\n",
    "\n",
    "model.summary()\n"
   ]
  },
  {
   "cell_type": "code",
   "execution_count": 3,
   "metadata": {
    "colab": {
     "base_uri": "https://localhost:8080/",
     "height": 235
    },
    "executionInfo": {
     "elapsed": 3161,
     "status": "ok",
     "timestamp": 1603017106136,
     "user": {
      "displayName": "",
      "photoUrl": "",
      "userId": ""
     },
     "user_tz": -330
    },
    "id": "O4s8HckqGlnb",
    "outputId": "430dd2da-2724-4396-cc19-f644657c60ff"
   },
   "outputs": [
    {
     "name": "stdout",
     "output_type": "stream",
     "text": [
      "Found 2000 images belonging to 2 classes.\n",
      "Found 1000 images belonging to 2 classes.\n"
     ]
    }
   ],
   "source": [
    "# Define our example directories and files\n",
    "base_dir = 'cats_and_dogs_filtered'\n",
    "\n",
    "train_dir = os.path.join( base_dir, 'train')\n",
    "validation_dir = os.path.join( base_dir, 'validation')\n",
    "\n",
    "\n",
    "train_cats_dir = os.path.join(train_dir, 'cats') # Directory with our training cat pictures\n",
    "train_dogs_dir = os.path.join(train_dir, 'dogs') # Directory with our training dog pictures\n",
    "validation_cats_dir = os.path.join(validation_dir, 'cats') # Directory with our validation cat pictures\n",
    "validation_dogs_dir = os.path.join(validation_dir, 'dogs')# Directory with our validation dog pictures\n",
    "\n",
    "train_cat_fnames = os.listdir(train_cats_dir)\n",
    "train_dog_fnames = os.listdir(train_dogs_dir)\n",
    "\n",
    "# Add our data-augmentation parameters to ImageDataGenerator\n",
    "train_datagen = ImageDataGenerator(rescale = 1./255.)\n",
    "\n",
    "# Note that the validation data should not be augmented!\n",
    "test_datagen = ImageDataGenerator( rescale = 1.0/255. )\n",
    "\n",
    "# Flow training images in batches of 20 using train_datagen generator\n",
    "train_generator = train_datagen.flow_from_directory(train_dir,\n",
    "                                                    batch_size = 20,\n",
    "                                                    class_mode = 'binary', \n",
    "                                                    target_size = (150, 150))     \n",
    "\n",
    "# Flow validation images in batches of 20 using test_datagen generator\n",
    "validation_generator =  test_datagen.flow_from_directory( validation_dir,\n",
    "                                                          batch_size  = 20,\n",
    "                                                          class_mode  = 'binary', \n",
    "                                                          target_size = (150, 150))"
   ]
  },
  {
   "cell_type": "code",
   "execution_count": 5,
   "metadata": {
    "colab": {
     "base_uri": "https://localhost:8080/",
     "height": 689
    },
    "executionInfo": {
     "elapsed": 400116,
     "status": "ok",
     "timestamp": 1603017570045,
     "user": {
      "displayName": "",
      "photoUrl": "",
      "userId": ""
     },
     "user_tz": -330
    },
    "id": "Blhq2MAUeyGA",
    "outputId": "a8a73c72-bcf9-450a-8b4a-3fee7790f1b5",
    "scrolled": true
   },
   "outputs": [
    {
     "name": "stdout",
     "output_type": "stream",
     "text": [
      "Epoch 1/50\n",
      "100/100 [==============================] - 12s 124ms/step - loss: 0.6879 - accuracy: 0.5310 - val_loss: 0.6699 - val_accuracy: 0.6060\n",
      "Epoch 2/50\n",
      "100/100 [==============================] - 12s 122ms/step - loss: 0.6477 - accuracy: 0.6085 - val_loss: 0.6317 - val_accuracy: 0.6110\n",
      "Epoch 3/50\n",
      "100/100 [==============================] - 12s 122ms/step - loss: 0.5945 - accuracy: 0.6890 - val_loss: 0.6279 - val_accuracy: 0.6190\n",
      "Epoch 4/50\n",
      "100/100 [==============================] - 12s 122ms/step - loss: 0.5625 - accuracy: 0.7030 - val_loss: 0.5868 - val_accuracy: 0.6910\n",
      "Epoch 5/50\n",
      "100/100 [==============================] - 12s 121ms/step - loss: 0.5339 - accuracy: 0.7390 - val_loss: 0.5705 - val_accuracy: 0.7070\n",
      "Epoch 6/50\n",
      "100/100 [==============================] - 12s 121ms/step - loss: 0.5126 - accuracy: 0.7525 - val_loss: 0.5675 - val_accuracy: 0.7180\n",
      "Epoch 7/50\n",
      "100/100 [==============================] - 12s 122ms/step - loss: 0.4821 - accuracy: 0.7705 - val_loss: 0.5746 - val_accuracy: 0.7110\n",
      "Epoch 8/50\n",
      "100/100 [==============================] - 12s 122ms/step - loss: 0.4583 - accuracy: 0.7915 - val_loss: 0.5906 - val_accuracy: 0.7010\n",
      "Epoch 9/50\n",
      "100/100 [==============================] - 12s 123ms/step - loss: 0.4345 - accuracy: 0.7920 - val_loss: 0.5799 - val_accuracy: 0.7020\n",
      "Epoch 10/50\n",
      "100/100 [==============================] - 12s 121ms/step - loss: 0.4103 - accuracy: 0.8170 - val_loss: 0.5720 - val_accuracy: 0.7060\n",
      "Epoch 11/50\n",
      "100/100 [==============================] - 12s 122ms/step - loss: 0.3798 - accuracy: 0.8210 - val_loss: 0.6555 - val_accuracy: 0.6880\n",
      "Epoch 12/50\n",
      "100/100 [==============================] - 5s 53ms/step - loss: 0.3564 - accuracy: 0.8485 - val_loss: 0.5633 - val_accuracy: 0.7300\n",
      "Epoch 13/50\n",
      "100/100 [==============================] - 5s 52ms/step - loss: 0.3282 - accuracy: 0.8605 - val_loss: 0.5623 - val_accuracy: 0.7350\n",
      "Epoch 14/50\n",
      "100/100 [==============================] - 5s 52ms/step - loss: 0.3079 - accuracy: 0.8720 - val_loss: 0.6079 - val_accuracy: 0.7180\n",
      "Epoch 15/50\n",
      "100/100 [==============================] - 5s 52ms/step - loss: 0.2818 - accuracy: 0.8810 - val_loss: 0.5588 - val_accuracy: 0.7400\n",
      "Epoch 16/50\n",
      "100/100 [==============================] - 5s 51ms/step - loss: 0.2549 - accuracy: 0.8970 - val_loss: 0.5686 - val_accuracy: 0.7300\n",
      "Epoch 17/50\n",
      "100/100 [==============================] - 5s 52ms/step - loss: 0.2347 - accuracy: 0.9075 - val_loss: 0.5752 - val_accuracy: 0.7430\n",
      "Epoch 18/50\n",
      "100/100 [==============================] - 5s 51ms/step - loss: 0.2198 - accuracy: 0.9120 - val_loss: 0.5901 - val_accuracy: 0.7420\n",
      "Epoch 19/50\n",
      "100/100 [==============================] - 5s 51ms/step - loss: 0.1996 - accuracy: 0.9230 - val_loss: 0.6038 - val_accuracy: 0.7280\n",
      "Epoch 20/50\n",
      "100/100 [==============================] - 5s 51ms/step - loss: 0.1770 - accuracy: 0.9370 - val_loss: 0.6381 - val_accuracy: 0.7390\n",
      "Epoch 21/50\n",
      "100/100 [==============================] - 5s 52ms/step - loss: 0.1545 - accuracy: 0.9440 - val_loss: 0.6524 - val_accuracy: 0.7310\n",
      "Epoch 22/50\n",
      "100/100 [==============================] - 5s 52ms/step - loss: 0.1376 - accuracy: 0.9530 - val_loss: 0.6636 - val_accuracy: 0.7390\n",
      "Epoch 23/50\n",
      "100/100 [==============================] - 5s 52ms/step - loss: 0.1236 - accuracy: 0.9620 - val_loss: 0.7140 - val_accuracy: 0.7490\n",
      "Epoch 24/50\n",
      "100/100 [==============================] - 5s 52ms/step - loss: 0.1063 - accuracy: 0.9655 - val_loss: 0.7151 - val_accuracy: 0.7500\n",
      "Epoch 25/50\n",
      "100/100 [==============================] - 5s 51ms/step - loss: 0.0939 - accuracy: 0.9710 - val_loss: 0.9838 - val_accuracy: 0.7250\n",
      "Epoch 26/50\n",
      "100/100 [==============================] - 5s 52ms/step - loss: 0.0820 - accuracy: 0.9765 - val_loss: 0.7917 - val_accuracy: 0.7460\n",
      "Epoch 27/50\n",
      "100/100 [==============================] - 5s 51ms/step - loss: 0.0691 - accuracy: 0.9790 - val_loss: 0.8089 - val_accuracy: 0.7450\n",
      "Epoch 28/50\n",
      "100/100 [==============================] - 5s 51ms/step - loss: 0.0573 - accuracy: 0.9850 - val_loss: 1.3044 - val_accuracy: 0.6900\n",
      "Epoch 29/50\n",
      "100/100 [==============================] - 5s 51ms/step - loss: 0.0559 - accuracy: 0.9815 - val_loss: 0.8849 - val_accuracy: 0.7350\n",
      "Epoch 30/50\n",
      "100/100 [==============================] - 5s 52ms/step - loss: 0.0366 - accuracy: 0.9915 - val_loss: 0.9671 - val_accuracy: 0.7290\n",
      "Epoch 31/50\n",
      "100/100 [==============================] - 5s 51ms/step - loss: 0.0344 - accuracy: 0.9920 - val_loss: 0.9701 - val_accuracy: 0.7360\n",
      "Epoch 32/50\n",
      "100/100 [==============================] - 5s 52ms/step - loss: 0.0318 - accuracy: 0.9905 - val_loss: 0.9737 - val_accuracy: 0.7380\n",
      "Epoch 33/50\n",
      "100/100 [==============================] - 5s 51ms/step - loss: 0.0344 - accuracy: 0.9910 - val_loss: 1.1123 - val_accuracy: 0.7340\n",
      "Epoch 34/50\n",
      "100/100 [==============================] - 5s 51ms/step - loss: 0.0213 - accuracy: 0.9950 - val_loss: 1.1494 - val_accuracy: 0.7280\n",
      "Epoch 35/50\n",
      "100/100 [==============================] - 5s 51ms/step - loss: 0.0231 - accuracy: 0.9935 - val_loss: 1.3730 - val_accuracy: 0.7180\n",
      "Epoch 36/50\n",
      "100/100 [==============================] - 5s 51ms/step - loss: 0.0174 - accuracy: 0.9960 - val_loss: 1.2975 - val_accuracy: 0.7400\n",
      "Epoch 37/50\n",
      "100/100 [==============================] - 5s 51ms/step - loss: 0.0173 - accuracy: 0.9960 - val_loss: 1.2414 - val_accuracy: 0.7380\n",
      "Epoch 38/50\n",
      "100/100 [==============================] - 5s 51ms/step - loss: 0.0123 - accuracy: 0.9960 - val_loss: 1.2144 - val_accuracy: 0.7520\n",
      "Epoch 39/50\n",
      "100/100 [==============================] - 5s 51ms/step - loss: 0.0130 - accuracy: 0.9955 - val_loss: 1.3510 - val_accuracy: 0.7280\n",
      "Epoch 40/50\n",
      "100/100 [==============================] - 5s 51ms/step - loss: 0.0200 - accuracy: 0.9940 - val_loss: 1.2561 - val_accuracy: 0.7220\n",
      "Epoch 41/50\n",
      "100/100 [==============================] - 5s 51ms/step - loss: 0.0081 - accuracy: 0.9975 - val_loss: 2.1575 - val_accuracy: 0.6910\n",
      "Epoch 42/50\n",
      "100/100 [==============================] - 5s 51ms/step - loss: 0.0123 - accuracy: 0.9965 - val_loss: 1.4058 - val_accuracy: 0.7390\n",
      "Epoch 43/50\n",
      "100/100 [==============================] - 5s 51ms/step - loss: 0.0103 - accuracy: 0.9975 - val_loss: 1.3684 - val_accuracy: 0.7470\n",
      "Epoch 44/50\n",
      "100/100 [==============================] - 5s 52ms/step - loss: 0.0136 - accuracy: 0.9960 - val_loss: 1.4595 - val_accuracy: 0.7380\n",
      "Epoch 45/50\n",
      "100/100 [==============================] - 5s 51ms/step - loss: 0.0127 - accuracy: 0.9975 - val_loss: 1.4518 - val_accuracy: 0.7430\n",
      "Epoch 46/50\n",
      "100/100 [==============================] - 5s 51ms/step - loss: 0.0243 - accuracy: 0.9915 - val_loss: 1.5134 - val_accuracy: 0.7360\n",
      "Epoch 47/50\n",
      "100/100 [==============================] - 5s 53ms/step - loss: 0.0073 - accuracy: 0.9980 - val_loss: 1.4930 - val_accuracy: 0.7390\n",
      "Epoch 48/50\n",
      "100/100 [==============================] - 5s 54ms/step - loss: 0.0104 - accuracy: 0.9970 - val_loss: 1.5751 - val_accuracy: 0.7430\n",
      "Epoch 49/50\n",
      "100/100 [==============================] - 5s 54ms/step - loss: 0.0185 - accuracy: 0.9950 - val_loss: 1.5983 - val_accuracy: 0.7270\n",
      "Epoch 50/50\n",
      "100/100 [==============================] - 5s 52ms/step - loss: 0.0021 - accuracy: 0.9995 - val_loss: 1.6253 - val_accuracy: 0.7320\n"
     ]
    }
   ],
   "source": [
    "history = model.fit(\n",
    "            train_generator,\n",
    "            validation_data = validation_generator,\n",
    "            steps_per_epoch = 100,\n",
    "            epochs = 50,\n",
    "            validation_steps = 50,\n",
    "            verbose = 1,)\n",
    "#             callbacks=[callback])"
   ]
  },
  {
   "cell_type": "code",
   "execution_count": 6,
   "metadata": {
    "colab": {
     "base_uri": "https://localhost:8080/",
     "height": 298
    },
    "executionInfo": {
     "elapsed": 3158,
     "status": "ok",
     "timestamp": 1603017575392,
     "user": {
      "displayName": "",
      "photoUrl": "",
      "userId": ""
     },
     "user_tz": -330
    },
    "id": "C2Fp6Se9rKuL",
    "outputId": "3dd2beb4-bb9c-4d52-d988-5a94319261a1"
   },
   "outputs": [
    {
     "data": {
      "image/png": "[encoded data removed]",
      "text/plain": [
       "<Figure size 432x288 with 1 Axes>"
      ]
     },
     "metadata": {
      "needs_background": "light"
     },
     "output_type": "display_data"
    },
    {
     "data": {
      "text/plain": [
       "<Figure size 432x288 with 0 Axes>"
      ]
     },
     "metadata": {},
     "output_type": "display_data"
    },
    {
     "data": {
      "image/png": "[encoded data removed]",
      "text/plain": [
       "<Figure size 432x288 with 1 Axes>"
      ]
     },
     "metadata": {
      "needs_background": "light"
     },
     "output_type": "display_data"
    }
   ],
   "source": [
    "acc = history.history['accuracy']\n",
    "val_acc = history.history['val_accuracy']\n",
    "loss = history.history['loss']\n",
    "val_loss = history.history['val_loss']\n",
    "\n",
    "epochs = range(len(acc))\n",
    "\n",
    "plt.plot(epochs, acc, 'r', label='Training accuracy')\n",
    "plt.plot(epochs, val_acc, 'b', label='Validation accuracy')\n",
    "plt.title('Training and validation accuracy')\n",
    "plt.legend(loc=0)\n",
    "plt.figure()\n",
    "\n",
    "\n",
    "plt.show()\n",
    "\n",
    "plt.plot(epochs, loss, 'r', label='Training Loss')\n",
    "plt.plot(epochs, val_loss, 'b', label='Validation Loss')\n",
    "plt.title('Training and validation loss')\n",
    "plt.legend()\n",
    "\n",
    "plt.show()"
   ]
  },
  {
   "cell_type": "markdown",
   "metadata": {},
   "source": [
    "On running our model for 100 epochs, we can see that even though our training set accuracy is ~99%, the validation accuracy is only ~83%. This is a classic case of overfitting, wherein the model fits a little too well on the training set, but underperforms on images it hasn't seen before.\n",
    "\n",
    "One way to reduce overfitting and improve validation accuracy is to train the model with a more diverse set of images. But we don't always have access to such data. In such scenarios, we can use ImageDataGenerator to augment our training dataset with modified images of the training set itself. Some of the properties include:\n",
    "* **rotation_range** is a value in degrees (0–180), a range within which to randomly rotate pictures.\n",
    "* **width_shift** and **height_shift** are ranges (as a fraction of total width or height) within which to randomly translate pictures vertically or horizontally.\n",
    "* **shear_range** is for randomly applying shearing transformations.\n",
    "* **zoom_range** is for randomly zooming inside pictures.\n",
    "* **horizontal_flip** is for randomly flipping half of the images horizontally. This is relevant when there are no assumptions of horizontal assymmetry (e.g. real-world pictures).\n",
    "* **fill_mode** is the strategy used for filling in newly created pixels, which can appear after a rotation or a width/height shift."
   ]
  },
  {
   "cell_type": "markdown",
   "metadata": {},
   "source": [
    "### Training with ImageDataGenerator"
   ]
  },
  {
   "cell_type": "code",
   "execution_count": 7,
   "metadata": {
    "id": "-ilsTtxESv9G"
   },
   "outputs": [
    {
     "name": "stdout",
     "output_type": "stream",
     "text": [
      "Model: \"sequential_1\"\n",
      "_________________________________________________________________\n",
      "Layer (type)                 Output Shape              Param #   \n",
      "=================================================================\n",
      "conv2d_4 (Conv2D)            (None, 148, 148, 32)      896       \n",
      "_________________________________________________________________\n",
      "max_pooling2d_4 (MaxPooling2 (None, 74, 74, 32)        0         \n",
      "_________________________________________________________________\n",
      "conv2d_5 (Conv2D)            (None, 72, 72, 64)        18496     \n",
      "_________________________________________________________________\n",
      "max_pooling2d_5 (MaxPooling2 (None, 36, 36, 64)        0         \n",
      "_________________________________________________________________\n",
      "conv2d_6 (Conv2D)            (None, 34, 34, 128)       73856     \n",
      "_________________________________________________________________\n",
      "max_pooling2d_6 (MaxPooling2 (None, 17, 17, 128)       0         \n",
      "_________________________________________________________________\n",
      "conv2d_7 (Conv2D)            (None, 15, 15, 128)       147584    \n",
      "_________________________________________________________________\n",
      "max_pooling2d_7 (MaxPooling2 (None, 7, 7, 128)         0         \n",
      "_________________________________________________________________\n",
      "flatten_1 (Flatten)          (None, 6272)              0         \n",
      "_________________________________________________________________\n",
      "dense_2 (Dense)              (None, 512)               3211776   \n",
      "_________________________________________________________________\n",
      "dense_3 (Dense)              (None, 1)                 513       \n",
      "=================================================================\n",
      "Total params: 3,453,121\n",
      "Trainable params: 3,453,121\n",
      "Non-trainable params: 0\n",
      "_________________________________________________________________\n",
      "None\n",
      "\n",
      "Found 2000 images belonging to 2 classes.\n",
      "Found 1000 images belonging to 2 classes.\n"
     ]
    }
   ],
   "source": [
    "# Define the model\n",
    "model = tf.keras.models.Sequential([\n",
    "    tf.keras.layers.Conv2D(32, (3,3), activation='relu', input_shape=(150, 150, 3)),\n",
    "    tf.keras.layers.MaxPooling2D(2, 2),\n",
    "    tf.keras.layers.Conv2D(64, (3,3), activation='relu'),\n",
    "    tf.keras.layers.MaxPooling2D(2,2),\n",
    "    tf.keras.layers.Conv2D(128, (3,3), activation='relu'),\n",
    "    tf.keras.layers.MaxPooling2D(2,2),\n",
    "    tf.keras.layers.Conv2D(128, (3,3), activation='relu'),\n",
    "    tf.keras.layers.MaxPooling2D(2,2),\n",
    "    tf.keras.layers.Flatten(),\n",
    "    tf.keras.layers.Dense(512, activation='relu'),\n",
    "    tf.keras.layers.Dense(1, activation='sigmoid')\n",
    "])\n",
    "\n",
    "# Compile model\n",
    "model.compile(loss='binary_crossentropy',\n",
    "              optimizer=RMSprop(lr=1e-4),\n",
    "              metrics=['accuracy'])\n",
    "\n",
    "\n",
    "print(model.summary())\n",
    "print()\n",
    "\n",
    "# Define our example directories and files\n",
    "base_dir = 'cats_and_dogs_filtered'\n",
    "\n",
    "train_dir = os.path.join( base_dir, 'train')\n",
    "validation_dir = os.path.join( base_dir, 'validation')\n",
    "\n",
    "\n",
    "train_cats_dir = os.path.join(train_dir, 'cats') # Directory with our training cat pictures\n",
    "train_dogs_dir = os.path.join(train_dir, 'dogs') # Directory with our training dog pictures\n",
    "validation_cats_dir = os.path.join(validation_dir, 'cats') # Directory with our validation cat pictures\n",
    "validation_dogs_dir = os.path.join(validation_dir, 'dogs')# Directory with our validation dog pictures\n",
    "\n",
    "train_cat_fnames = os.listdir(train_cats_dir)\n",
    "train_dog_fnames = os.listdir(train_dogs_dir)\n",
    "\n",
    "# Add our data-augmentation parameters to ImageDataGenerator\n",
    "train_datagen = ImageDataGenerator(rescale = 1./255.,\n",
    "                                   rotation_range = 40,\n",
    "                                   width_shift_range = 0.2,\n",
    "                                   height_shift_range = 0.2,\n",
    "                                   shear_range = 0.2,\n",
    "                                   zoom_range = 0.2,\n",
    "                                   horizontal_flip = True\n",
    "                                   )\n",
    "\n",
    "# Note that the validation data should not be augmented!\n",
    "test_datagen = ImageDataGenerator( rescale = 1.0/255. )\n",
    "\n",
    "# Flow training images in batches of 20 using train_datagen generator\n",
    "train_generator = train_datagen.flow_from_directory(train_dir,\n",
    "                                                    batch_size = 20,\n",
    "                                                    class_mode = 'binary', \n",
    "                                                    target_size = (150, 150))     \n",
    "\n",
    "# Flow validation images in batches of 20 using test_datagen generator\n",
    "validation_generator =  test_datagen.flow_from_directory( validation_dir,\n",
    "                                                          batch_size  = 20,\n",
    "                                                          class_mode  = 'binary', \n",
    "                                                          target_size = (150, 150))"
   ]
  },
  {
   "cell_type": "code",
   "execution_count": 8,
   "metadata": {
    "scrolled": true
   },
   "outputs": [
    {
     "name": "stdout",
     "output_type": "stream",
     "text": [
      "Epoch 1/50\n",
      "100/100 [==============================] - 17s 174ms/step - loss: 0.6900 - accuracy: 0.5320 - val_loss: 0.6682 - val_accuracy: 0.6070\n",
      "Epoch 2/50\n",
      "100/100 [==============================] - 17s 171ms/step - loss: 0.6795 - accuracy: 0.5670 - val_loss: 0.6545 - val_accuracy: 0.6180\n",
      "Epoch 3/50\n",
      "100/100 [==============================] - 17s 172ms/step - loss: 0.6615 - accuracy: 0.6080 - val_loss: 0.6266 - val_accuracy: 0.6280\n",
      "Epoch 4/50\n",
      "100/100 [==============================] - 17s 172ms/step - loss: 0.6410 - accuracy: 0.6165 - val_loss: 0.6058 - val_accuracy: 0.6750\n",
      "Epoch 5/50\n",
      "100/100 [==============================] - 17s 173ms/step - loss: 0.6225 - accuracy: 0.6595 - val_loss: 0.5931 - val_accuracy: 0.6560\n",
      "Epoch 6/50\n",
      "100/100 [==============================] - 17s 171ms/step - loss: 0.6139 - accuracy: 0.6630 - val_loss: 0.5747 - val_accuracy: 0.6940\n",
      "Epoch 7/50\n",
      "100/100 [==============================] - 17s 172ms/step - loss: 0.6128 - accuracy: 0.6645 - val_loss: 0.5852 - val_accuracy: 0.6790\n",
      "Epoch 8/50\n",
      "100/100 [==============================] - 17s 171ms/step - loss: 0.6046 - accuracy: 0.6750 - val_loss: 0.5698 - val_accuracy: 0.6940\n",
      "Epoch 9/50\n",
      "100/100 [==============================] - 17s 171ms/step - loss: 0.5930 - accuracy: 0.6790 - val_loss: 0.5510 - val_accuracy: 0.7080\n",
      "Epoch 10/50\n",
      "100/100 [==============================] - 17s 171ms/step - loss: 0.5893 - accuracy: 0.6840 - val_loss: 0.5484 - val_accuracy: 0.7210\n",
      "Epoch 11/50\n",
      "100/100 [==============================] - 17s 171ms/step - loss: 0.5750 - accuracy: 0.6865 - val_loss: 0.5441 - val_accuracy: 0.7180\n",
      "Epoch 12/50\n",
      "100/100 [==============================] - 17s 171ms/step - loss: 0.5740 - accuracy: 0.6955 - val_loss: 0.5316 - val_accuracy: 0.7440\n",
      "Epoch 13/50\n",
      "100/100 [==============================] - 17s 171ms/step - loss: 0.5687 - accuracy: 0.7015 - val_loss: 0.5434 - val_accuracy: 0.7080\n",
      "Epoch 14/50\n",
      "100/100 [==============================] - 17s 172ms/step - loss: 0.5669 - accuracy: 0.7025 - val_loss: 0.5854 - val_accuracy: 0.6690\n",
      "Epoch 15/50\n",
      "100/100 [==============================] - 17s 171ms/step - loss: 0.5638 - accuracy: 0.6925 - val_loss: 0.5876 - val_accuracy: 0.6940\n",
      "Epoch 16/50\n",
      "100/100 [==============================] - 17s 171ms/step - loss: 0.5590 - accuracy: 0.7135 - val_loss: 0.5153 - val_accuracy: 0.7410\n",
      "Epoch 17/50\n",
      "100/100 [==============================] - 17s 173ms/step - loss: 0.5438 - accuracy: 0.7120 - val_loss: 0.5139 - val_accuracy: 0.7400\n",
      "Epoch 18/50\n",
      "100/100 [==============================] - 17s 172ms/step - loss: 0.5500 - accuracy: 0.7130 - val_loss: 0.5108 - val_accuracy: 0.7390\n",
      "Epoch 19/50\n",
      "100/100 [==============================] - 17s 171ms/step - loss: 0.5457 - accuracy: 0.7205 - val_loss: 0.5092 - val_accuracy: 0.7290\n",
      "Epoch 20/50\n",
      "100/100 [==============================] - 17s 172ms/step - loss: 0.5335 - accuracy: 0.7220 - val_loss: 0.5437 - val_accuracy: 0.7010\n",
      "Epoch 21/50\n",
      "100/100 [==============================] - 18s 178ms/step - loss: 0.5377 - accuracy: 0.7285 - val_loss: 0.5013 - val_accuracy: 0.7490\n",
      "Epoch 22/50\n",
      "100/100 [==============================] - 17s 172ms/step - loss: 0.5235 - accuracy: 0.7405 - val_loss: 0.5620 - val_accuracy: 0.7140\n",
      "Epoch 23/50\n",
      "100/100 [==============================] - 17s 171ms/step - loss: 0.5329 - accuracy: 0.7320 - val_loss: 0.5375 - val_accuracy: 0.7170\n",
      "Epoch 24/50\n",
      "100/100 [==============================] - 17s 173ms/step - loss: 0.5230 - accuracy: 0.7380 - val_loss: 0.4962 - val_accuracy: 0.7410\n",
      "Epoch 25/50\n",
      "100/100 [==============================] - 18s 178ms/step - loss: 0.5066 - accuracy: 0.7520 - val_loss: 0.5031 - val_accuracy: 0.7450\n",
      "Epoch 26/50\n",
      "100/100 [==============================] - 17s 175ms/step - loss: 0.5307 - accuracy: 0.7360 - val_loss: 0.5046 - val_accuracy: 0.7340\n",
      "Epoch 27/50\n",
      "100/100 [==============================] - 17s 174ms/step - loss: 0.5091 - accuracy: 0.7445 - val_loss: 0.5312 - val_accuracy: 0.7270\n",
      "Epoch 28/50\n",
      "100/100 [==============================] - 17s 172ms/step - loss: 0.5146 - accuracy: 0.7460 - val_loss: 0.4962 - val_accuracy: 0.7390\n",
      "Epoch 29/50\n",
      "100/100 [==============================] - 17s 170ms/step - loss: 0.4924 - accuracy: 0.7655 - val_loss: 0.4740 - val_accuracy: 0.7660\n",
      "Epoch 30/50\n",
      "100/100 [==============================] - 17s 171ms/step - loss: 0.5068 - accuracy: 0.7410 - val_loss: 0.4856 - val_accuracy: 0.7530\n",
      "Epoch 31/50\n",
      "100/100 [==============================] - 17s 171ms/step - loss: 0.4974 - accuracy: 0.7570 - val_loss: 0.4706 - val_accuracy: 0.7760\n",
      "Epoch 32/50\n",
      "100/100 [==============================] - 17s 170ms/step - loss: 0.5012 - accuracy: 0.7605 - val_loss: 0.5235 - val_accuracy: 0.7370\n",
      "Epoch 33/50\n",
      "100/100 [==============================] - 17s 171ms/step - loss: 0.4991 - accuracy: 0.7530 - val_loss: 0.5068 - val_accuracy: 0.7430\n",
      "Epoch 34/50\n",
      "100/100 [==============================] - 17s 175ms/step - loss: 0.4983 - accuracy: 0.7510 - val_loss: 0.5204 - val_accuracy: 0.7350\n",
      "Epoch 35/50\n",
      "100/100 [==============================] - 17s 172ms/step - loss: 0.4892 - accuracy: 0.7635 - val_loss: 0.4604 - val_accuracy: 0.7780\n",
      "Epoch 36/50\n",
      "100/100 [==============================] - 17s 171ms/step - loss: 0.4865 - accuracy: 0.7575 - val_loss: 0.4630 - val_accuracy: 0.7690\n",
      "Epoch 37/50\n",
      "100/100 [==============================] - 17s 171ms/step - loss: 0.4886 - accuracy: 0.7585 - val_loss: 0.4917 - val_accuracy: 0.7610\n",
      "Epoch 38/50\n",
      "100/100 [==============================] - 17s 171ms/step - loss: 0.4890 - accuracy: 0.7620 - val_loss: 0.4591 - val_accuracy: 0.7670\n",
      "Epoch 39/50\n",
      "100/100 [==============================] - 17s 170ms/step - loss: 0.4832 - accuracy: 0.7620 - val_loss: 0.4603 - val_accuracy: 0.7710\n",
      "Epoch 40/50\n",
      "100/100 [==============================] - 17s 170ms/step - loss: 0.4757 - accuracy: 0.7740 - val_loss: 0.4830 - val_accuracy: 0.7590\n",
      "Epoch 41/50\n",
      "100/100 [==============================] - 17s 170ms/step - loss: 0.4899 - accuracy: 0.7645 - val_loss: 0.4489 - val_accuracy: 0.7760\n",
      "Epoch 42/50\n",
      "100/100 [==============================] - 17s 170ms/step - loss: 0.4744 - accuracy: 0.7695 - val_loss: 0.4663 - val_accuracy: 0.7830\n",
      "Epoch 43/50\n",
      "100/100 [==============================] - 17s 170ms/step - loss: 0.4693 - accuracy: 0.7750 - val_loss: 0.4500 - val_accuracy: 0.7850\n",
      "Epoch 44/50\n",
      "100/100 [==============================] - 17s 170ms/step - loss: 0.4686 - accuracy: 0.7685 - val_loss: 0.4437 - val_accuracy: 0.7830\n",
      "Epoch 45/50\n",
      "100/100 [==============================] - 17s 170ms/step - loss: 0.4739 - accuracy: 0.7630 - val_loss: 0.4340 - val_accuracy: 0.7900\n",
      "Epoch 46/50\n",
      "100/100 [==============================] - 18s 176ms/step - loss: 0.4505 - accuracy: 0.7890 - val_loss: 0.4720 - val_accuracy: 0.7790\n",
      "Epoch 47/50\n",
      "100/100 [==============================] - 18s 175ms/step - loss: 0.4562 - accuracy: 0.7900 - val_loss: 0.5169 - val_accuracy: 0.7470\n",
      "Epoch 48/50\n",
      "100/100 [==============================] - 19s 185ms/step - loss: 0.4704 - accuracy: 0.7755 - val_loss: 0.5131 - val_accuracy: 0.7490\n",
      "Epoch 49/50\n",
      "100/100 [==============================] - 18s 178ms/step - loss: 0.4471 - accuracy: 0.7965 - val_loss: 0.4860 - val_accuracy: 0.7570\n",
      "Epoch 50/50\n",
      "100/100 [==============================] - 17s 171ms/step - loss: 0.4575 - accuracy: 0.7850 - val_loss: 0.4345 - val_accuracy: 0.8020\n"
     ]
    }
   ],
   "source": [
    "history2 = model.fit(\n",
    "            train_generator,\n",
    "            validation_data = validation_generator,\n",
    "            steps_per_epoch = 100,\n",
    "            epochs = 50,\n",
    "            validation_steps = 50,\n",
    "            verbose = 1)"
   ]
  },
  {
   "cell_type": "code",
   "execution_count": 9,
   "metadata": {},
   "outputs": [
    {
     "data": {
      "image/png": "[encoded data removed]",
      "text/plain": [
       "<Figure size 432x288 with 1 Axes>"
      ]
     },
     "metadata": {
      "needs_background": "light"
     },
     "output_type": "display_data"
    },
    {
     "data": {
      "text/plain": [
       "<Figure size 432x288 with 0 Axes>"
      ]
     },
     "metadata": {},
     "output_type": "display_data"
    },
    {
     "data": {
      "image/png": "[encoded data removed]",
      "text/plain": [
       "<Figure size 432x288 with 1 Axes>"
      ]
     },
     "metadata": {
      "needs_background": "light"
     },
     "output_type": "display_data"
    }
   ],
   "source": [
    "acc = history2.history['accuracy']\n",
    "val_acc = history2.history['val_accuracy']\n",
    "loss = history2.history['loss']\n",
    "val_loss = history2.history['val_loss']\n",
    "\n",
    "epochs = range(len(acc))\n",
    "\n",
    "plt.plot(epochs, acc, 'r', label='Training accuracy')\n",
    "plt.plot(epochs, val_acc, 'b', label='Validation accuracy')\n",
    "plt.title('Training and validation accuracy')\n",
    "plt.legend(loc=0)\n",
    "plt.figure()\n",
    "\n",
    "\n",
    "plt.show()\n",
    "\n",
    "plt.plot(epochs, loss, 'r', label='Training Loss')\n",
    "plt.plot(epochs, val_loss, 'b', label='Validation Loss')\n",
    "plt.title('Training and validation loss')\n",
    "plt.legend()\n",
    "\n",
    "plt.show()"
   ]
  },
  {
   "cell_type": "markdown",
   "metadata": {},
   "source": [
    "The impact of using ImageDataGenerator can be seen clearly here. The validation accuracy now is very close to the training accuracy, as compared to the results earlier. \n",
    "\n",
    "Our new model fits better to unseen data than the previously trained model, with the validation accuracy at 80% as compared to 73% earlier!"
   ]
  },
  {
   "cell_type": "code",
   "execution_count": null,
   "metadata": {},
   "outputs": [],
   "source": []
  }
 ],
 "metadata": {
  "accelerator": "GPU",
  "colab": {
   "collapsed_sections": [],
   "name": "Copy of Course 2 - Part 6 - Lesson 3 - Notebook.ipynb",
   "provenance": [
    {
     "file_id": "https://github.com/lmoroney/dlaicourse/blob/master/Course%202%20-%20Part%206%20-%20Lesson%203%20-%20Notebook.ipynb",
     "timestamp": 1603017582825
    }
   ],
   "toc_visible": true
  },
  "kernelspec": {
   "display_name": "Python 3",
   "language": "python",
   "name": "python3"
  },
  "language_info": {
   "codemirror_mode": {
    "name": "ipython",
    "version": 3
   },
   "file_extension": ".py",
   "mimetype": "text/x-python",
   "name": "python",
   "nbconvert_exporter": "python",
   "pygments_lexer": "ipython3",
   "version": "3.7.7"
  }
 },
 "nbformat": 4,
 "nbformat_minor": 1
}
